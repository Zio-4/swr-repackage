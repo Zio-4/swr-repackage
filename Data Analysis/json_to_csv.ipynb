{
 "cells": [
  {
   "cell_type": "code",
   "execution_count": 78,
   "id": "596e36ee",
   "metadata": {},
   "outputs": [],
   "source": [
    "import pandas as pd\n",
    "import numpy as np"
   ]
  },
  {
   "cell_type": "code",
   "execution_count": 112,
   "id": "475ecbc8",
   "metadata": {},
   "outputs": [],
   "source": [
    "df = pd.read_json (r'../Firebase Data/gse-yeatmanlab-default-rtdb-export.json')"
   ]
  },
  {
   "cell_type": "code",
   "execution_count": 113,
   "id": "c1c4819b",
   "metadata": {},
   "outputs": [],
   "source": [
    "def convert_json_to_df(df):\n",
    "    data = df.to_dict()['subj']\n",
    "    users = data.keys()\n",
    "    array = []\n",
    "    for user in users: \n",
    "        json_lis = data[user]\n",
    "        for trial in range(len(json_lis)):\n",
    "            trial_data = json_lis[trial]   \n",
    "            for key in trial_data.keys():\n",
    "                array.append([user,trial,key,trial_data[key]])\n",
    "    new_df = pd.DataFrame(data=array, columns=[\"user\", \"trial\",\"node\",\"response\"])\n",
    "    \n",
    "    return new_df"
   ]
  },
  {
   "cell_type": "code",
   "execution_count": 114,
   "id": "b63b31a7",
   "metadata": {},
   "outputs": [],
   "source": [
    "convert_json_to_df(df).to_csv('data.csv')"
   ]
  },
  {
   "cell_type": "code",
   "execution_count": null,
   "id": "223c2f84",
   "metadata": {},
   "outputs": [],
   "source": []
  }
 ],
 "metadata": {
  "kernelspec": {
   "display_name": "Python 3",
   "language": "python",
   "name": "python3"
  },
  "language_info": {
   "codemirror_mode": {
    "name": "ipython",
    "version": 3
   },
   "file_extension": ".py",
   "mimetype": "text/x-python",
   "name": "python",
   "nbconvert_exporter": "python",
   "pygments_lexer": "ipython3",
   "version": "3.8.8"
  }
 },
 "nbformat": 4,
 "nbformat_minor": 5
}
